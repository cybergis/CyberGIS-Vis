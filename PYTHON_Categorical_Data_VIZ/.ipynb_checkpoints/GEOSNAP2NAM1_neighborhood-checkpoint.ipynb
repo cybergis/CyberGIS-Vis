{
 "cells": [
  {
   "cell_type": "code",
   "execution_count": 10,
   "metadata": {},
   "outputs": [],
   "source": [
    "import pandas as pd\n",
    "from GEOSNAP2NAM import Clustering_viz\n",
    "from GEOSNAP2NAM import Clustering_log"
   ]
  },
  {
   "cell_type": "code",
   "execution_count": 2,
   "metadata": {},
   "outputs": [],
   "source": [
    "#sample = \"downloads/LTDB_Std_All_Sample.zip\"\n",
    "#full = \"downloads/LTDB_Std_All_fullcount.zip\"\n",
    "#store_ltdb(sample=sample, fullcount=full)\n",
    "#store_census()"
   ]
  },
  {
   "cell_type": "code",
   "execution_count": 11,
   "metadata": {},
   "outputs": [],
   "source": [
    "# LA 31080, San Diego 41740, Albertville 10700, NY 35620\n",
    "param = {\n",
    "    'title': \"Neighborhood Analysis: azp Clustering, San Diego\",\n",
    "    'filename_suffix': \"SD_1_neighborhood\",     \n",
    "    'state_fips': None,\n",
    "    'msa_fips': \"41740\",                         # For more options: http://sarasen.asuscomm.com/LNE/pick_POI.html\n",
    "    'county_fips': None,\n",
    "    'years': [1980, 1990, 2000, 2010],           # Available years: 1970, 1980, 1990, 2000 and 2010\n",
    "    'method': \"azp\",                          # Aspatial Clustering: affinity_propagation, gaussian_mixture, hdbscan, kmeans, spectral, ward\n",
    "                                                 # Spatial Clustering: azp, max_p, skater, spenc, ward_spatial   \n",
    "    'nClusters': 8,                              # This option should be commented out for affinity_propagation, hdbscan and max_p \n",
    "    'variables': [\"p_nonhisp_white_persons\", \n",
    "                  \"p_nonhisp_black_persons\", \n",
    "                  \"p_hispanic_persons\", \n",
    "                  \"p_native_persons\", \n",
    "                  \"p_asian_persons\",\n",
    "                 ],\n",
    "    'Sequence': False,\n",
    "    # optional visualization below.\n",
    "    #'Index_of_neighborhood_change': True,        #choropleth map: Maps representing index of neighborhood Change\n",
    "    'Maps_of_neighborhood': True,                #choropleth map: Maps representing clustering result\t\t\n",
    "    #'Distribution_INC1': True,                   #density chart: INC changes as the map extent changes \n",
    "    #'Distribution_INC2_different_period': True,  #density chart: INC changes by different years\n",
    "    #'Distribution_INC2_different_cluster': True, #density chart: INC changes by different clusters\n",
    "    'Temporal_change_in_neighborhoods': True,    #stacked chart: Temporal Change in Neighborhoods over years\t\t\n",
    "    #'Parallel_Categories_Diagram_in_neighborhoods': True,\n",
    "    #'Chord_Diagram_in_neighborhoods': True, \n",
    "}"
   ]
  },
  {
   "cell_type": "code",
   "execution_count": null,
   "metadata": {},
   "outputs": [
    {
     "name": "stderr",
     "output_type": "stream",
     "text": [
      "/home/suhan/anaconda3/envs/geosnap2/lib/python3.7/site-packages/libpysal/weights/weights.py:170: UserWarning: The weights matrix is not fully connected. There are 155 components\n",
      "  warnings.warn(\"The weights matrix is not fully connected. There are %d components\" % self.n_components)\n"
     ]
    },
    {
     "name": "stdout",
     "output_type": "stream",
     "text": [
      "There are no disconnected observations (no islands)!\n",
      "n_regions_per_comp {0: 8}\n",
      "comp_label 0\n",
      "n_regions_in_comp 8\n",
      "Regions in comp: {0, 1, 2, 3, 4, 5, 6, 7}\n"
     ]
    },
    {
     "name": "stderr",
     "output_type": "stream",
     "text": [
      "/home/suhan/anaconda3/envs/geosnap2/lib/python3.7/site-packages/libpysal/weights/weights.py:170: UserWarning: The weights matrix is not fully connected. There are 155 components\n",
      "  warnings.warn(\"The weights matrix is not fully connected. There are %d components\" % self.n_components)\n"
     ]
    },
    {
     "name": "stdout",
     "output_type": "stream",
     "text": [
      "There are no disconnected observations (no islands)!\n",
      "n_regions_per_comp {0: 8}\n",
      "comp_label 0\n",
      "n_regions_in_comp 8\n",
      "Regions in comp: {0, 1, 2, 3, 4, 5, 6, 7}\n"
     ]
    },
    {
     "name": "stderr",
     "output_type": "stream",
     "text": [
      "/home/suhan/anaconda3/envs/geosnap2/lib/python3.7/site-packages/libpysal/weights/weights.py:170: UserWarning: The weights matrix is not fully connected. There are 155 components\n",
      "  warnings.warn(\"The weights matrix is not fully connected. There are %d components\" % self.n_components)\n"
     ]
    },
    {
     "name": "stdout",
     "output_type": "stream",
     "text": [
      "There are no disconnected observations (no islands)!\n",
      "n_regions_per_comp {0: 8}\n",
      "comp_label 0\n",
      "n_regions_in_comp 8\n",
      "Regions in comp: {0, 1, 2, 3, 4, 5, 6, 7}\n"
     ]
    },
    {
     "name": "stderr",
     "output_type": "stream",
     "text": [
      "/home/suhan/anaconda3/envs/geosnap2/lib/python3.7/site-packages/libpysal/weights/weights.py:170: UserWarning: The weights matrix is not fully connected. There are 155 components\n",
      "  warnings.warn(\"The weights matrix is not fully connected. There are %d components\" % self.n_components)\n"
     ]
    },
    {
     "name": "stdout",
     "output_type": "stream",
     "text": [
      "There are no disconnected observations (no islands)!\n",
      "n_regions_per_comp {0: 8}\n",
      "comp_label 0\n",
      "n_regions_in_comp 8\n",
      "Regions in comp: {0, 1, 2, 3, 4, 5, 6, 7}\n"
     ]
    }
   ],
   "source": [
    "Clustering_viz(param)"
   ]
  },
  {
   "cell_type": "code",
   "execution_count": 4,
   "metadata": {},
   "outputs": [],
   "source": [
    "Clustering_log()"
   ]
  },
  {
   "cell_type": "code",
   "execution_count": null,
   "metadata": {},
   "outputs": [],
   "source": []
  }
 ],
 "metadata": {
  "kernelspec": {
   "display_name": "Python 3",
   "language": "python",
   "name": "python3"
  },
  "language_info": {
   "codemirror_mode": {
    "name": "ipython",
    "version": 3
   },
   "file_extension": ".py",
   "mimetype": "text/x-python",
   "name": "python",
   "nbconvert_exporter": "python",
   "pygments_lexer": "ipython3",
   "version": "3.7.3"
  }
 },
 "nbformat": 4,
 "nbformat_minor": 2
}
