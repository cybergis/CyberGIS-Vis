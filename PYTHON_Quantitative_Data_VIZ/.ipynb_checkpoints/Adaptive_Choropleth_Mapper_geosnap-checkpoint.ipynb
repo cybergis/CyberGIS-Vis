{
 "cells": [
  {
   "cell_type": "code",
   "execution_count": 1,
   "metadata": {},
   "outputs": [
    {
     "name": "stderr",
     "output_type": "stream",
     "text": [
      "Loading manifest: 100%|███████████████████████████████████████████████████████████| 2/2 [00:00<00:00, 1000.31entries/s]\n",
      "Loading manifest: 100%|███████████████████████████████████████████████████████████| 5/5 [00:00<00:00, 5014.71entries/s]\n",
      "Loading manifest: 100%|███████████████████████████████████████████████████████████| 5/5 [00:00<00:00, 5237.64entries/s]\n",
      "Loading manifest: 100%|█████████████████████████████████████████████████████████████████████| 2/2 [00:00<?, ?entries/s]\n"
     ]
    }
   ],
   "source": [
    "import pandas as pd\n",
    "import geopandas as gpd\n",
    "from Adaptive_Choropleth_Mapper_geosnap import Adaptive_Choropleth_Mapper_viz"
   ]
  },
  {
   "cell_type": "markdown",
   "metadata": {},
   "source": [
    "## Linked Choropleth Map Visulaizations using ACM with built-in data"
   ]
  },
  {
   "cell_type": "markdown",
   "metadata": {},
   "source": [
    "### 1. Adaptive Choropleth Mapper"
   ]
  },
  {
   "cell_type": "code",
   "execution_count": null,
   "metadata": {},
   "outputs": [],
   "source": [
    "param = {\n",
    "        'title': \"Adaptive Choropleth Mapper\",\n",
    "        'filename_suffix': \"Adaptive_Choropleth_Maps\",\n",
    "        'state_fips': None,    #fips code is avaiable for every US state at https://github.com/suhanmappingideas/geosnap-viz/blob/master/state_id.csv\n",
    "        'msa_fips': \"16980\",   #For more options: http://su-gis.iptime.org/LNE/pick_POI.html\n",
    "        'county_fips': None,   #county code \n",
    "        'years': [1980, 1990, 2000, 2010], #Available years: 1970, 1980, 1990, 2000, 2010\n",
    "        'label': \"short_name\", #Pick variable,short_name,full_name from template/conversion_table_codebook.csv         \n",
    "        'variables': [         #enter variable names of the column you selected above.\n",
    "            \"p_nonhisp_white_persons\",\n",
    "            \"p_nonhisp_black_persons\",\n",
    "            \"p_hispanic_persons\",\n",
    "            \"p_asian_persons\",\n",
    "            \"p_foreign_born_pop\",\n",
    "            \"p_edu_college_greater\",\n",
    "            \"p_unemployment_rate\",\n",
    "            \"p_employed_manufacturing\",\n",
    "            \"p_poverty_rate\",\n",
    "            \"p_vacant_housing_units\",\n",
    "            \"p_owner_occupied_units\",\n",
    "            \"p_housing_units_multiunit_structures\",\n",
    "            \"median_home_value\",\n",
    "            \"p_structures_30_old\",\n",
    "            \"p_household_recent_move\",\n",
    "            \"p_persons_under_18\",\n",
    "            \"p_persons_over_60\",            \n",
    "        ],\n",
    "         'chart': \"Stacked Chart\",  #Comment out if you do not want to visualize this chart     \n",
    "}\n",
    "Adaptive_Choropleth_Mapper_viz(param)"
   ]
  },
  {
   "cell_type": "markdown",
   "metadata": {},
   "source": [
    "### 2. Adaptive Choropleth Mapper with Correlogram"
   ]
  },
  {
   "cell_type": "code",
   "execution_count": null,
   "metadata": {},
   "outputs": [],
   "source": [
    "param = {\n",
    "        'title': \"Adaptive Choropleth Mapper with Correlogram\",\n",
    "        'filename_suffix': \"Adaptive_Choropleth_Maps_correlogram\",\n",
    "        'state_fips': None,    #fips code is avaiable for every US state at https://github.com/suhanmappingideas/geosnap-viz/blob/master/state_id.csv\n",
    "        'msa_fips': \"16980\",   #For more options: http://su-gis.iptime.org/LNE/pick_POI.html\n",
    "        'county_fips': None,   #county code \n",
    "        'year': 2010, #Available years: 1970, 1980, 1990, 2000, 2010\n",
    "        'NumOfMaps': 4,\n",
    "        'label': \"short_name\", #Pick variable,short_name,full_name from template/conversion_table_codebook.csv         \n",
    "        'variables': [         #enter variable names of the column you selected above.\n",
    "            \"p_nonhisp_white_persons\",\n",
    "            \"p_nonhisp_black_persons\",\n",
    "            \"p_hispanic_persons\",\n",
    "            \"p_asian_persons\",\n",
    "            \"p_foreign_born_pop\",\n",
    "            \"p_edu_college_greater\",\n",
    "            \"p_unemployment_rate\",\n",
    "            \"p_employed_manufacturing\",\n",
    "            \"p_poverty_rate\",\n",
    "            \"p_vacant_housing_units\",\n",
    "            \"p_owner_occupied_units\",\n",
    "            \"p_housing_units_multiunit_structures\",\n",
    "            \"median_home_value\",\n",
    "            \"p_structures_30_old\",\n",
    "            \"p_household_recent_move\",\n",
    "            \"p_persons_under_18\",\n",
    "            \"p_persons_over_60\",    \n",
    "        ],\n",
    "        'chart': \"Correlogram\",\n",
    "}\n",
    "Adaptive_Choropleth_Mapper_viz(param)"
   ]
  },
  {
   "cell_type": "markdown",
   "metadata": {},
   "source": [
    "### 3. Adaptive Choropleth Mapper with Scatter Plot"
   ]
  },
  {
   "cell_type": "code",
   "execution_count": null,
   "metadata": {},
   "outputs": [],
   "source": [
    "param = {\n",
    "        'title': \"Adaptive Choropleth Mapper: Scatter Plot with Correlation\",\n",
    "        'filename_suffix': \"Adaptive_Choropleth_Maps_Scatter\",\n",
    "        'state_fips': None,    #fips code is avaiable for every US state at https://github.com/suhanmappingideas/geosnap-viz/blob/master/state_id.csv\n",
    "        'msa_fips': \"16980\",   #For more options: http://su-gis.iptime.org/LNE/pick_POI.html\n",
    "        'county_fips': None,   #county code \n",
    "        'year': 2000, #Available years: 1970, 1980, 1990, 2000, 2010\n",
    "        'variables': [\n",
    "            \"p_nonhisp_white_persons\",\n",
    "            \"p_nonhisp_black_persons\",\n",
    "            \"p_hispanic_persons\",\n",
    "            \"p_native_persons\",\n",
    "            \"p_asian_persons\",\n",
    "            \"p_hawaiian_persons\",\n",
    "            \"p_asian_indian_persons\",\n",
    "            \"p_chinese_persons\",\n",
    "            \"p_filipino_persons\",\n",
    "            \"p_japanese_persons\",\n",
    "            \"p_korean_persons\",\n",
    "            \"p_vietnamese_persons\",\n",
    "            \"median_household_income\",\n",
    "            \"median_income_whitehh\",\n",
    "            \"median_income_blackhh\",\n",
    "            \"median_income_hispanichh\",\n",
    "            \"median_income_asianhh\",\n",
    "            \"per_capita_income\",\n",
    "        ],\n",
    "        'chart': \"Scatter Plot\",\n",
    "        'label': \"short_name\",                                       # variable, short_name or full_name\n",
    "}\n",
    "Adaptive_Choropleth_Mapper_viz(param)"
   ]
  },
  {
   "cell_type": "markdown",
   "metadata": {},
   "source": [
    "### 4. Adaptive Choropleth Mapper with Parallel Coordinate Plot"
   ]
  },
  {
   "cell_type": "code",
   "execution_count": null,
   "metadata": {},
   "outputs": [],
   "source": [
    "param = {\n",
    "        'title': \"Adaptive Choropleth Mapper with PCP\",\n",
    "        'filename_suffix': \"Adaptive_Choropleth_Maps_Parallel_Coordinate_Plot\",\n",
    "        'state_fips': None,    #fips code is avaiable for every US state at https://github.com/suhanmappingideas/geosnap-viz/blob/master/state_id.csv\n",
    "        'msa_fips': \"16980\",   #For more options: http://su-gis.iptime.org/LNE/pick_POI.html\n",
    "        'county_fips': None,   #county code \n",
    "        'year': 2000, #Available years: 1970, 1980, 1990, 2000, 2010\n",
    "        'NumOfMaps': 6,\n",
    "        'label': \"short_name\", #Pick variable,short_name,full_name from template/conversion_table_codebook.csv         \n",
    "        'variables': [         #enter variable names of the column you selected above.\n",
    "            \"p_nonhisp_white_persons\",\n",
    "            \"p_nonhisp_black_persons\",\n",
    "            \"p_hispanic_persons\",\n",
    "            \"p_asian_persons\",           \n",
    "            \"p_persons_over_60\",\n",
    "            \"p_foreign_born_pop\",\n",
    "            \"p_edu_college_greater\",\n",
    "            \"p_poverty_rate\",              \n",
    "            \"p_unemployment_rate\",\n",
    "            \"p_employed_manufacturing\",\n",
    "            \"p_persons_under_18\",\n",
    "            \"p_vacant_housing_units\",\n",
    "            \"p_owner_occupied_units\",\n",
    "            \"p_housing_units_multiunit_structures\",\n",
    "            \"median_home_value\",\n",
    "            \"p_structures_30_old\",\n",
    "            \"p_household_recent_move\",\n",
    " \n",
    "        ],\n",
    "        'chart': \"Parallel Coordinates Plot\",\n",
    "\n",
    "}\n",
    "Adaptive_Choropleth_Mapper_viz(param)"
   ]
  },
  {
   "cell_type": "markdown",
   "metadata": {},
   "source": [
    "### 5. Adaptive Choropleth Mapper with Time Series"
   ]
  },
  {
   "cell_type": "code",
   "execution_count": null,
   "metadata": {},
   "outputs": [],
   "source": [
    "param = {\n",
    "        'title': \"Adaptive Choropleth Mapper: Time Series\",\n",
    "        'filename_suffix': \"Adaptive_Choropleth_Maps_Time_Series\",\n",
    "        'state_fips': None,    #fips code is avaiable for every US state at https://github.com/suhanmappingideas/geosnap-viz/blob/master/state_id.csv\n",
    "        'msa_fips': \"16980\",   #For more options: http://su-gis.iptime.org/LNE/pick_POI.html\n",
    "        'county_fips': None,   #county code \n",
    "        'years': [1980, 1990, 2000, 2010], #Available years: 1970, 1980, 1990, 2000, 2010\n",
    "        'NumOfMaps': 4,\n",
    "        'label': \"short_name\", #Pick variable,short_name,full_name from template/conversion_table_codebook.csv    \n",
    "        'variables': [\n",
    "            \"p_hispanic_persons\",        \n",
    "        ],    \n",
    "        'chart': \"Parallel Coordinates Plot\",\n",
    "}\n",
    "Adaptive_Choropleth_Mapper_viz(param)"
   ]
  },
  {
   "cell_type": "code",
   "execution_count": null,
   "metadata": {},
   "outputs": [],
   "source": []
  }
 ],
 "metadata": {
  "kernelspec": {
   "display_name": "Python 3",
   "language": "python",
   "name": "python3"
  },
  "language_info": {
   "codemirror_mode": {
    "name": "ipython",
    "version": 3
   },
   "file_extension": ".py",
   "mimetype": "text/x-python",
   "name": "python",
   "nbconvert_exporter": "python",
   "pygments_lexer": "ipython3",
   "version": "3.7.8"
  }
 },
 "nbformat": 4,
 "nbformat_minor": 4
}
